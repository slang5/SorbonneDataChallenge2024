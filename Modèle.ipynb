{
 "cells": [
  {
   "cell_type": "code",
   "execution_count": 102,
   "metadata": {},
   "outputs": [],
   "source": [
    "import numpy as np\n",
    "import pandas as pd"
   ]
  },
  {
   "cell_type": "code",
   "execution_count": 103,
   "metadata": {},
   "outputs": [
    {
     "data": {
      "text/plain": [
       "Index(['raceId', 'constructorId', 'winsConstructeur'], dtype='object')"
      ]
     },
     "execution_count": 103,
     "metadata": {},
     "output_type": "execute_result"
    }
   ],
   "source": [
    "Constructeurs = pd.read_csv(r\"Donnees propres\\Constructeurs.csv\", sep=',').drop(columns=['Unnamed: 0'])\n",
    "Constructeurs.columns"
   ]
  },
  {
   "cell_type": "code",
   "execution_count": 104,
   "metadata": {},
   "outputs": [
    {
     "data": {
      "text/plain": [
       "Index(['raceId', 'driverId', 'winsDriver', 'dob'], dtype='object')"
      ]
     },
     "execution_count": 104,
     "metadata": {},
     "output_type": "execute_result"
    }
   ],
   "source": [
    "Driver = pd.read_csv(r\"Donnees propres/DriverALL.csv\",sep=',').drop(columns=['Unnamed: 0'])\n",
    "Driver.columns"
   ]
  },
  {
   "cell_type": "code",
   "execution_count": 105,
   "metadata": {},
   "outputs": [
    {
     "data": {
      "text/plain": [
       "Index(['raceId', 'year', 'GradTemperature', 'GradSec', 'weather_cloudy'], dtype='object')"
      ]
     },
     "execution_count": 105,
     "metadata": {},
     "output_type": "execute_result"
    }
   ],
   "source": [
    "Meteo = pd.read_csv(r'Donnees propres\\Meteo.csv', sep=',').drop(columns=['Unnamed: 0'])\n",
    "Meteo.columns"
   ]
  },
  {
   "cell_type": "code",
   "execution_count": 106,
   "metadata": {},
   "outputs": [
    {
     "data": {
      "text/plain": [
       "Index(['raceId', 'year', 'round', 'circuitId', 'monthRace', 'startRace'], dtype='object')"
      ]
     },
     "execution_count": 106,
     "metadata": {},
     "output_type": "execute_result"
    }
   ],
   "source": [
    "Races = pd.read_csv(r'Donnees propres\\Races.csv', sep=',').drop(columns=['Unnamed: 0'])\n",
    "Races.columns"
   ]
  },
  {
   "cell_type": "code",
   "execution_count": 107,
   "metadata": {},
   "outputs": [
    {
     "data": {
      "text/plain": [
       "Index(['raceId', 'driverId', 'constructorId', 'grid', 'winner', 'IsSecond',\n",
       "       'IsThird'],\n",
       "      dtype='object')"
      ]
     },
     "execution_count": 107,
     "metadata": {},
     "output_type": "execute_result"
    }
   ],
   "source": [
    "Resultat = pd.read_csv(r'Donnees propres\\resultatsCourse.csv',sep=',').drop(columns=['Unnamed: 0'])\n",
    "Resultat.columns"
   ]
  },
  {
   "cell_type": "code",
   "execution_count": 108,
   "metadata": {},
   "outputs": [
    {
     "data": {
      "text/plain": [
       "Index(['raceId', 'driverId', 'constructorId', 'q1', 'TempsMaxQualif',\n",
       "       'TempsMax-q1'],\n",
       "      dtype='object')"
      ]
     },
     "execution_count": 108,
     "metadata": {},
     "output_type": "execute_result"
    }
   ],
   "source": [
    "Qualif = pd.read_csv(r'Donnees propres\\Qualif.csv', sep=',').drop(columns=['Unnamed: 0'])\n",
    "Qualif.columns "
   ]
  },
  {
   "cell_type": "code",
   "execution_count": 109,
   "metadata": {},
   "outputs": [
    {
     "data": {
      "text/html": [
       "<div>\n",
       "<style scoped>\n",
       "    .dataframe tbody tr th:only-of-type {\n",
       "        vertical-align: middle;\n",
       "    }\n",
       "\n",
       "    .dataframe tbody tr th {\n",
       "        vertical-align: top;\n",
       "    }\n",
       "\n",
       "    .dataframe thead th {\n",
       "        text-align: right;\n",
       "    }\n",
       "</style>\n",
       "<table border=\"1\" class=\"dataframe\">\n",
       "  <thead>\n",
       "    <tr style=\"text-align: right;\">\n",
       "      <th></th>\n",
       "      <th>raceId</th>\n",
       "      <th>driverId</th>\n",
       "      <th>grid</th>\n",
       "      <th>winner</th>\n",
       "      <th>winsDriver</th>\n",
       "      <th>dob</th>\n",
       "    </tr>\n",
       "  </thead>\n",
       "  <tbody>\n",
       "    <tr>\n",
       "      <th>0</th>\n",
       "      <td>18</td>\n",
       "      <td>1</td>\n",
       "      <td>1</td>\n",
       "      <td>1</td>\n",
       "      <td>0</td>\n",
       "      <td>1985</td>\n",
       "    </tr>\n",
       "    <tr>\n",
       "      <th>1</th>\n",
       "      <td>18</td>\n",
       "      <td>2</td>\n",
       "      <td>5</td>\n",
       "      <td>0</td>\n",
       "      <td>0</td>\n",
       "      <td>1977</td>\n",
       "    </tr>\n",
       "    <tr>\n",
       "      <th>2</th>\n",
       "      <td>18</td>\n",
       "      <td>3</td>\n",
       "      <td>7</td>\n",
       "      <td>0</td>\n",
       "      <td>0</td>\n",
       "      <td>1985</td>\n",
       "    </tr>\n",
       "    <tr>\n",
       "      <th>3</th>\n",
       "      <td>18</td>\n",
       "      <td>4</td>\n",
       "      <td>11</td>\n",
       "      <td>0</td>\n",
       "      <td>0</td>\n",
       "      <td>1981</td>\n",
       "    </tr>\n",
       "    <tr>\n",
       "      <th>4</th>\n",
       "      <td>18</td>\n",
       "      <td>5</td>\n",
       "      <td>3</td>\n",
       "      <td>0</td>\n",
       "      <td>0</td>\n",
       "      <td>1981</td>\n",
       "    </tr>\n",
       "    <tr>\n",
       "      <th>...</th>\n",
       "      <td>...</td>\n",
       "      <td>...</td>\n",
       "      <td>...</td>\n",
       "      <td>...</td>\n",
       "      <td>...</td>\n",
       "      <td>...</td>\n",
       "    </tr>\n",
       "    <tr>\n",
       "      <th>25366</th>\n",
       "      <td>1096</td>\n",
       "      <td>854</td>\n",
       "      <td>12</td>\n",
       "      <td>0</td>\n",
       "      <td>0</td>\n",
       "      <td>1999</td>\n",
       "    </tr>\n",
       "    <tr>\n",
       "      <th>25367</th>\n",
       "      <td>1096</td>\n",
       "      <td>825</td>\n",
       "      <td>16</td>\n",
       "      <td>0</td>\n",
       "      <td>0</td>\n",
       "      <td>1992</td>\n",
       "    </tr>\n",
       "    <tr>\n",
       "      <th>25368</th>\n",
       "      <td>1096</td>\n",
       "      <td>1</td>\n",
       "      <td>5</td>\n",
       "      <td>0</td>\n",
       "      <td>0</td>\n",
       "      <td>1985</td>\n",
       "    </tr>\n",
       "    <tr>\n",
       "      <th>25369</th>\n",
       "      <td>1096</td>\n",
       "      <td>849</td>\n",
       "      <td>20</td>\n",
       "      <td>0</td>\n",
       "      <td>0</td>\n",
       "      <td>1995</td>\n",
       "    </tr>\n",
       "    <tr>\n",
       "      <th>25370</th>\n",
       "      <td>1096</td>\n",
       "      <td>4</td>\n",
       "      <td>10</td>\n",
       "      <td>0</td>\n",
       "      <td>0</td>\n",
       "      <td>1981</td>\n",
       "    </tr>\n",
       "  </tbody>\n",
       "</table>\n",
       "<p>25371 rows × 6 columns</p>\n",
       "</div>"
      ],
      "text/plain": [
       "       raceId  driverId  grid  winner  winsDriver   dob\n",
       "0          18         1     1       1           0  1985\n",
       "1          18         2     5       0           0  1977\n",
       "2          18         3     7       0           0  1985\n",
       "3          18         4    11       0           0  1981\n",
       "4          18         5     3       0           0  1981\n",
       "...       ...       ...   ...     ...         ...   ...\n",
       "25366    1096       854    12       0           0  1999\n",
       "25367    1096       825    16       0           0  1992\n",
       "25368    1096         1     5       0           0  1985\n",
       "25369    1096       849    20       0           0  1995\n",
       "25370    1096         4    10       0           0  1981\n",
       "\n",
       "[25371 rows x 6 columns]"
      ]
     },
     "execution_count": 109,
     "metadata": {},
     "output_type": "execute_result"
    }
   ],
   "source": [
    "#le premier modèle porte sur les caractéristiques suivantes : wins driver, grid, q1, year, ageAtrace\n",
    "Column_model1 = ['raceId', 'driverId', 'grid','AgeAtRace', 'year', 'q1', 'winner']\n",
    "\n",
    "DataM1 = pd.merge(Resultat[['raceId', 'driverId','grid', 'winner']],Driver[['raceId', 'driverId', 'winsDriver', 'dob']], on=['raceId', 'driverId'])\n",
    "DataM1"
   ]
  },
  {
   "cell_type": "code",
   "execution_count": 110,
   "metadata": {},
   "outputs": [
    {
     "data": {
      "text/plain": [
       "Index(['raceId', 'driverId', 'grid', 'winner', 'winsDriver', 'dob', 'year',\n",
       "       'AgeAtRace'],\n",
       "      dtype='object')"
      ]
     },
     "execution_count": 110,
     "metadata": {},
     "output_type": "execute_result"
    }
   ],
   "source": [
    "DataM1 = pd.merge(DataM1, Races[['raceId','year']], on=['raceId'])\n",
    "DataM1['AgeAtRace'] = DataM1['year'] - DataM1['dob']\n",
    "DataM1.columns"
   ]
  },
  {
   "cell_type": "code",
   "execution_count": 111,
   "metadata": {},
   "outputs": [],
   "source": [
    "def Data_X_et_Y(Set_Data, ColumnsToKeep_X,ColumnsToKeep_Y):\n",
    "    return Set_Data[ColumnsToKeep_X].set_index(['raceId', 'driverId']), Set_Data[ColumnsToKeep_Y].set_index(['raceId', 'driverId'])"
   ]
  },
  {
   "cell_type": "code",
   "execution_count": 112,
   "metadata": {},
   "outputs": [
    {
     "data": {
      "text/plain": [
       "('raceId',\n",
       " 'driverId',\n",
       " 'grid',\n",
       " 'winner',\n",
       " 'winsDriver',\n",
       " 'dob',\n",
       " 'year',\n",
       " 'AgeAtRace')"
      ]
     },
     "execution_count": 112,
     "metadata": {},
     "output_type": "execute_result"
    }
   ],
   "source": [
    "#modèle 1 : simple une regression logistique qui alimentera un random forest\n",
    "'raceId', 'driverId', 'grid', 'winner', 'winsDriver', 'dob', 'year','AgeAtRace'"
   ]
  },
  {
   "cell_type": "code",
   "execution_count": 139,
   "metadata": {},
   "outputs": [],
   "source": [
    "DataM1_train = DataM1[DataM1['year']<=2020]\n",
    "DataM1_test = DataM1[DataM1['year']==2021]\n",
    "Columns_M1_X = ['raceId', 'driverId','grid', 'winsDriver', 'dob', 'year','AgeAtRace']\n",
    "Columns_M1_Y = ['raceId', 'driverId','winner']\n",
    "DataM1_train_X, DataM1_train_Y = Data_X_et_Y(DataM1_train,Columns_M1_X,Columns_M1_Y)\n",
    "DataM1_test_X, DataM1_test_Y = Data_X_et_Y(DataM1_test,Columns_M1_X,Columns_M1_Y)"
   ]
  },
  {
   "cell_type": "code",
   "execution_count": 140,
   "metadata": {},
   "outputs": [],
   "source": [
    "from sklearn.linear_model import LogisticRegression\n",
    "from sklearn.ensemble import RandomForestClassifier\n",
    "from sklearn.model_selection import GridSearchCV"
   ]
  },
  {
   "cell_type": "code",
   "execution_count": 143,
   "metadata": {},
   "outputs": [
    {
     "data": {
      "text/plain": [
       "0.9583928790167817"
      ]
     },
     "execution_count": 143,
     "metadata": {},
     "output_type": "execute_result"
    }
   ],
   "source": [
    "#on fait le gradient boost\n",
    "M1_Logistic = LogisticRegression()\n",
    "M1_Logistic_Gris = {\n",
    "    'penalty' : ['l2'],\n",
    "    'solver' : ['liblinear'],\n",
    "    'tol' : [0.001],\n",
    "    'max_iter' : [8000],\n",
    "    'random_state' : [14]\n",
    "}\n",
    "\n",
    "M1_Logistic_Gris = GridSearchCV(M1_Logistic, M1_Logistic_Gris,scoring='recall')\n",
    "\n",
    "M1_Logistic_Gris.fit(DataM1_train_X, DataM1_train_Y.values.ravel())\n",
    "M1_Logistic = LogisticRegression(**M1_Logistic_Gris.best_params_)\n",
    "M1_Logistic = M1_Logistic.fit(DataM1_train_X, DataM1_train_Y.values.ravel())\n",
    "M1_Logistic.score(DataM1_train_X, DataM1_train_Y.values.ravel())"
   ]
  },
  {
   "cell_type": "code",
   "execution_count": 116,
   "metadata": {},
   "outputs": [],
   "source": [
    "def FonctionProba_to_Score(Modele, Data_set_X, Data_set_Y):\n",
    "    Y_predit = Data_set_Y\n",
    "    probabilite = Modele.predict_proba(Data_set_X)\n",
    "    probabilite = pd.DataFrame(probabilite).drop(columns=(0))\n",
    "    probabilite = np.array(probabilite)\n",
    "    Y_predit['PREpositionOrder'] = probabilite\n",
    "\n",
    "    Top = []\n",
    "    Podium = []\n",
    "    \n",
    "    Courses = Y_predit.index.get_level_values(\"raceId\").unique()\n",
    "    for Race in Courses:\n",
    "        \n",
    "        Drivers = Y_predit['PREpositionOrder'][Race].index.get_level_values(\"driverId\")\n",
    "        NB_driver = len(Drivers)\n",
    "        Classement = np.array(Y_predit[\"PREpositionOrder\"][Race])\n",
    "        Classement = (NB_driver) - (Classement.argsort().argsort())\n",
    "        count = 0\n",
    "        for Conducteur in Drivers:\n",
    "            if Classement[count] <= 3:\n",
    "                Podium.append(Classement[count])\n",
    "                if Classement[count] == 1:\n",
    "                    Top.append(1)\n",
    "                else:\n",
    "                    Top.append(0)\n",
    "            else:\n",
    "                Podium.append(0)\n",
    "                Top.append(0)\n",
    "            count += 1\n",
    "    Y_predit.loc[:,'winner'] = Top\n",
    "    Y_predit.loc[:,'positionOrder'] = Podium\n",
    "    return Y_predit"
   ]
  },
  {
   "cell_type": "code",
   "execution_count": 144,
   "metadata": {},
   "outputs": [],
   "source": [
    "DataM1_test_Y = FonctionProba_to_Score(M1_Logistic, DataM1_test_X,DataM1_test_Y)"
   ]
  },
  {
   "cell_type": "code",
   "execution_count": 145,
   "metadata": {},
   "outputs": [],
   "source": [
    "DataM1_test_Y = DataM1_test_Y.drop(columns=['PREpositionOrder'])\n",
    "DataM1_test_Y.to_csv('Model1_propre/ResultatLogistic_V1.csv') #69.88"
   ]
  },
  {
   "cell_type": "markdown",
   "metadata": {},
   "source": [
    "on va utiliser les resultats du modèle logistique pour faire un modele random forest \n",
    "on va faire une matrice train avec les données de base et les résultats de logistique\n",
    "DataM1_train_X\n",
    "DataM1_train_Y\n",
    "DataM1_test_X\n",
    "DataM1_test_Y"
   ]
  },
  {
   "cell_type": "code",
   "execution_count": 146,
   "metadata": {},
   "outputs": [],
   "source": [
    "def FromIndexToColumn(DataWithIndex):\n",
    "    matrice = DataWithIndex\n",
    "    for i in DataWithIndex.index.names:\n",
    "        matrice[i] = matrice.index.get_level_values(i)\n",
    "    matrice = matrice.reset_index(level=DataWithIndex.index.names, drop=True)\n",
    "    return matrice\n",
    "\n",
    "def fusionnerDeuxMatrice(DataArray, DataResult):\n",
    "    Matrice = pd.merge(DataArray, DataResult, on=['raceId', 'driverId'])\n",
    "    return Matrice"
   ]
  },
  {
   "cell_type": "markdown",
   "metadata": {},
   "source": [
    "DataM1_train"
   ]
  },
  {
   "cell_type": "code",
   "execution_count": 147,
   "metadata": {},
   "outputs": [],
   "source": [
    "#on va fusionner les matrices résultats et avec les caractéristiques\n",
    "DataM1_Train_FromLogistic = FromIndexToColumn(FonctionProba_to_Score(M1_Logistic, DataM1_train_X,DataM1_train_Y).rename(columns={'winner':'expectedWinnerLogistic', 'PREpositionOrder' : 'expectedPREpositionOrderLogistic', 'positionOrder' : 'expectedpositionOrderLogistic'}))\n",
    "\n",
    "DataM1_Train_FromLogistic = fusionnerDeuxMatrice(DataM1_train,DataM1_Train_FromLogistic)\n",
    "Columns_M1_X_RF = ['raceId', 'driverId','grid', 'winsDriver', 'dob', 'year','AgeAtRace','expectedWinnerLogistic','expectedPREpositionOrderLogistic','expectedpositionOrderLogistic']\n",
    "Columns_M1_Y_RF = ['raceId', 'driverId','winner']\n",
    "DataM1_Train_FromLogistic_X, DataM1_Train_FromLogistic_Y = Data_X_et_Y(DataM1_Train_FromLogistic,Columns_M1_X_RF,Columns_M1_Y_RF)"
   ]
  },
  {
   "cell_type": "code",
   "execution_count": 148,
   "metadata": {},
   "outputs": [
    {
     "data": {
      "text/plain": [
       "0.9711565728175005"
      ]
     },
     "execution_count": 148,
     "metadata": {},
     "output_type": "execute_result"
    }
   ],
   "source": [
    "M1_RandomForest = RandomForestClassifier()\n",
    "M1_RandomForest_Grid = {\n",
    "    'n_estimators' : [40],\n",
    "    'criterion' : [\"gini\"],\n",
    "    'max_depth' : [10],\n",
    "    'random_state' : [14]\n",
    "}\n",
    "M1_RandomForest_Grid = GridSearchCV(M1_RandomForest,M1_RandomForest_Grid,scoring='recall')\n",
    "M1_RandomForest_Grid = M1_RandomForest_Grid.fit(DataM1_Train_FromLogistic_X,DataM1_Train_FromLogistic_Y.values.ravel())\n",
    "M1_RandomForest = RandomForestClassifier(**M1_RandomForest_Grid.best_params_)\n",
    "M1_RandomForest.fit(DataM1_Train_FromLogistic_X,DataM1_Train_FromLogistic_Y.values.ravel())\n",
    "M1_RandomForest.score(DataM1_Train_FromLogistic_X,DataM1_Train_FromLogistic_Y.values.ravel())"
   ]
  },
  {
   "cell_type": "code",
   "execution_count": 149,
   "metadata": {},
   "outputs": [],
   "source": [
    "#maintenant qu'on le modèle fir on run les data du test  : DataM1_test\n",
    "DataM1_Test_FromLogistic = FromIndexToColumn(FonctionProba_to_Score(M1_Logistic, DataM1_test_X,DataM1_test_Y).rename(columns={'winner':'expectedWinnerLogistic', 'PREpositionOrder' : 'expectedPREpositionOrderLogistic', 'positionOrder' : 'expectedpositionOrderLogistic'}))\n",
    "\n",
    "DataM1_Test_FromLogistic = fusionnerDeuxMatrice(DataM1_test,DataM1_Test_FromLogistic)\n",
    "Columns_M1_X_RF = ['raceId', 'driverId','grid', 'winsDriver', 'dob', 'year','AgeAtRace','expectedWinnerLogistic','expectedPREpositionOrderLogistic','expectedpositionOrderLogistic']\n",
    "Columns_M1_Y_RF = ['raceId', 'driverId','winner']\n",
    "DataM1_Test_FromLogistic_X, DataM1_Test_FromLogistic_Y = Data_X_et_Y(DataM1_Test_FromLogistic,Columns_M1_X_RF,Columns_M1_Y_RF)\n"
   ]
  },
  {
   "cell_type": "code",
   "execution_count": 150,
   "metadata": {},
   "outputs": [],
   "source": [
    "DataM1_test_Y_RF = FonctionProba_to_Score(M1_RandomForest,DataM1_Test_FromLogistic_X, DataM1_Test_FromLogistic_Y)\n",
    "DataM1_test_Y_RF = DataM1_test_Y_RF.drop(columns=\"PREpositionOrder\")"
   ]
  },
  {
   "cell_type": "code",
   "execution_count": 151,
   "metadata": {},
   "outputs": [],
   "source": [
    "DataM1_test_Y_RF.to_csv('Model1_propre/ResultatRF_V1.csv') #68.06"
   ]
  },
  {
   "cell_type": "markdown",
   "metadata": {},
   "source": [
    "On a des résultats qui stagnent en dessous des 70%\n",
    "Passons maintenant à la prise en compte des qualifications on va tenter une regression logistique\n",
    "Races, Qualif, Resultat\n",
    "races : 'raceId', 'year', 'round', 'circuitId', 'monthRace', 'startRace'\n",
    "Qualif : 'raceId', 'driverId', 'constructorId', 'q1', 'TempsMaxQualif', 'TempsMax-q1'\n",
    "Resultat : 'raceId', 'driverId', 'constructorId', 'grid', 'winner', 'IsSecond', 'IsThird'"
   ]
  },
  {
   "cell_type": "code",
   "execution_count": 168,
   "metadata": {},
   "outputs": [
    {
     "data": {
      "text/html": [
       "<div>\n",
       "<style scoped>\n",
       "    .dataframe tbody tr th:only-of-type {\n",
       "        vertical-align: middle;\n",
       "    }\n",
       "\n",
       "    .dataframe tbody tr th {\n",
       "        vertical-align: top;\n",
       "    }\n",
       "\n",
       "    .dataframe thead th {\n",
       "        text-align: right;\n",
       "    }\n",
       "</style>\n",
       "<table border=\"1\" class=\"dataframe\">\n",
       "  <thead>\n",
       "    <tr style=\"text-align: right;\">\n",
       "      <th></th>\n",
       "      <th>raceId</th>\n",
       "      <th>driverId</th>\n",
       "      <th>constructorId</th>\n",
       "      <th>grid</th>\n",
       "      <th>winner</th>\n",
       "      <th>IsSecond</th>\n",
       "      <th>IsThird</th>\n",
       "    </tr>\n",
       "  </thead>\n",
       "  <tbody>\n",
       "    <tr>\n",
       "      <th>0</th>\n",
       "      <td>18</td>\n",
       "      <td>1</td>\n",
       "      <td>1</td>\n",
       "      <td>1</td>\n",
       "      <td>1</td>\n",
       "      <td>0</td>\n",
       "      <td>0</td>\n",
       "    </tr>\n",
       "    <tr>\n",
       "      <th>1</th>\n",
       "      <td>18</td>\n",
       "      <td>2</td>\n",
       "      <td>2</td>\n",
       "      <td>5</td>\n",
       "      <td>0</td>\n",
       "      <td>1</td>\n",
       "      <td>0</td>\n",
       "    </tr>\n",
       "    <tr>\n",
       "      <th>2</th>\n",
       "      <td>18</td>\n",
       "      <td>3</td>\n",
       "      <td>3</td>\n",
       "      <td>7</td>\n",
       "      <td>0</td>\n",
       "      <td>0</td>\n",
       "      <td>1</td>\n",
       "    </tr>\n",
       "    <tr>\n",
       "      <th>3</th>\n",
       "      <td>18</td>\n",
       "      <td>4</td>\n",
       "      <td>4</td>\n",
       "      <td>11</td>\n",
       "      <td>0</td>\n",
       "      <td>0</td>\n",
       "      <td>0</td>\n",
       "    </tr>\n",
       "    <tr>\n",
       "      <th>4</th>\n",
       "      <td>18</td>\n",
       "      <td>5</td>\n",
       "      <td>1</td>\n",
       "      <td>3</td>\n",
       "      <td>0</td>\n",
       "      <td>0</td>\n",
       "      <td>0</td>\n",
       "    </tr>\n",
       "    <tr>\n",
       "      <th>...</th>\n",
       "      <td>...</td>\n",
       "      <td>...</td>\n",
       "      <td>...</td>\n",
       "      <td>...</td>\n",
       "      <td>...</td>\n",
       "      <td>...</td>\n",
       "      <td>...</td>\n",
       "    </tr>\n",
       "    <tr>\n",
       "      <th>25835</th>\n",
       "      <td>1096</td>\n",
       "      <td>854</td>\n",
       "      <td>210</td>\n",
       "      <td>12</td>\n",
       "      <td>0</td>\n",
       "      <td>0</td>\n",
       "      <td>0</td>\n",
       "    </tr>\n",
       "    <tr>\n",
       "      <th>25836</th>\n",
       "      <td>1096</td>\n",
       "      <td>825</td>\n",
       "      <td>210</td>\n",
       "      <td>16</td>\n",
       "      <td>0</td>\n",
       "      <td>0</td>\n",
       "      <td>0</td>\n",
       "    </tr>\n",
       "    <tr>\n",
       "      <th>25837</th>\n",
       "      <td>1096</td>\n",
       "      <td>1</td>\n",
       "      <td>131</td>\n",
       "      <td>5</td>\n",
       "      <td>0</td>\n",
       "      <td>0</td>\n",
       "      <td>0</td>\n",
       "    </tr>\n",
       "    <tr>\n",
       "      <th>25838</th>\n",
       "      <td>1096</td>\n",
       "      <td>849</td>\n",
       "      <td>3</td>\n",
       "      <td>20</td>\n",
       "      <td>0</td>\n",
       "      <td>0</td>\n",
       "      <td>0</td>\n",
       "    </tr>\n",
       "    <tr>\n",
       "      <th>25839</th>\n",
       "      <td>1096</td>\n",
       "      <td>4</td>\n",
       "      <td>214</td>\n",
       "      <td>10</td>\n",
       "      <td>0</td>\n",
       "      <td>0</td>\n",
       "      <td>0</td>\n",
       "    </tr>\n",
       "  </tbody>\n",
       "</table>\n",
       "<p>25840 rows × 7 columns</p>\n",
       "</div>"
      ],
      "text/plain": [
       "       raceId  driverId  constructorId  grid  winner  IsSecond  IsThird\n",
       "0          18         1              1     1       1         0        0\n",
       "1          18         2              2     5       0         1        0\n",
       "2          18         3              3     7       0         0        1\n",
       "3          18         4              4    11       0         0        0\n",
       "4          18         5              1     3       0         0        0\n",
       "...       ...       ...            ...   ...     ...       ...      ...\n",
       "25835    1096       854            210    12       0         0        0\n",
       "25836    1096       825            210    16       0         0        0\n",
       "25837    1096         1            131     5       0         0        0\n",
       "25838    1096       849              3    20       0         0        0\n",
       "25839    1096         4            214    10       0         0        0\n",
       "\n",
       "[25840 rows x 7 columns]"
      ]
     },
     "execution_count": 168,
     "metadata": {},
     "output_type": "execute_result"
    }
   ],
   "source": [
    "Resultat"
   ]
  },
  {
   "cell_type": "code",
   "execution_count": 213,
   "metadata": {},
   "outputs": [
    {
     "data": {
      "text/plain": [
       "Index(['raceId', 'driverId', 'constructorId_x', 'grid', 'winner', 'year',\n",
       "       'round', 'circuitId', 'monthRace', 'startRace', 'constructorId_y', 'q1',\n",
       "       'TempsMaxQualif', 'TempsMax-q1'],\n",
       "      dtype='object')"
      ]
     },
     "execution_count": 213,
     "metadata": {},
     "output_type": "execute_result"
    }
   ],
   "source": [
    "Data_Logistic_M2 = pd.merge(Resultat[['raceId', 'driverId', 'constructorId', 'grid', 'winner']],Races, on =['raceId'], how='outer')\n",
    "Data_Logistic_M2 = pd.merge(Data_Logistic_M2, Qualif[['raceId', 'driverId', 'constructorId', 'q1', 'TempsMaxQualif', 'TempsMax-q1']], on=['raceId','driverId'], how='outer')\n",
    "Data_Logistic_M2.columns"
   ]
  },
  {
   "cell_type": "code",
   "execution_count": 223,
   "metadata": {},
   "outputs": [],
   "source": [
    "Columns_M2_X = ['raceId', 'driverId', 'grid', 'year', 'round', 'circuitId', 'monthRace', 'startRace', 'q1', 'TempsMaxQualif', 'TempsMax-q1']\n",
    "Columns_M2_Y = ['raceId', 'driverId','winner']\n",
    "Data_Logistic_M2_train = Data_Logistic_M2[Data_Logistic_M2['year']<= 2020].dropna(axis=0)\n",
    "Data_Logistic_M2_test = Data_Logistic_M2[Data_Logistic_M2['year'] == 2021].fillna(0)\n",
    "\n",
    "DataM2_train_X, DataM2_train_Y = Data_X_et_Y(Data_Logistic_M2_train,Columns_M2_X,Columns_M2_Y)\n",
    "DataM2_test_X, DataM2_test_Y = Data_X_et_Y(Data_Logistic_M2_test,Columns_M2_X,Columns_M2_Y)"
   ]
  },
  {
   "cell_type": "code",
   "execution_count": 231,
   "metadata": {},
   "outputs": [],
   "source": [
    "import xgboost"
   ]
  },
  {
   "cell_type": "code",
   "execution_count": 243,
   "metadata": {},
   "outputs": [
    {
     "data": {
      "text/plain": [
       "0.9510119595216191"
      ]
     },
     "execution_count": 243,
     "metadata": {},
     "output_type": "execute_result"
    }
   ],
   "source": [
    "Model2_Logistic = LogisticRegression()\n",
    "Model2_Logistic_Grid = {\n",
    "    'penalty' : ['l2'],\n",
    "    'solver' :  ['lbfgs'],\n",
    "    'max_iter' : [4000],\n",
    "    'random_state' : [14]\n",
    "}\n",
    "\n",
    "Model2_Logistic_Grid = GridSearchCV(Model2_Logistic, Model2_Logistic_Grid, scoring='recall')\n",
    "Model2_Logistic_Grid.fit(DataM2_train_X, DataM2_train_Y.values.ravel())\n",
    "Model2_Logistic = LogisticRegression(**Model2_Logistic_Grid.best_params_)\n",
    "Model2_Logistic.fit(DataM2_train_X, DataM2_train_Y.values.ravel())\n",
    "Model2_Logistic.score(DataM2_train_X, DataM2_train_Y.values.ravel())"
   ]
  },
  {
   "cell_type": "code",
   "execution_count": 244,
   "metadata": {},
   "outputs": [],
   "source": [
    "DataM2_test_Y = FonctionProba_to_Score(Model2_Logistic,DataM2_test_X,DataM2_test_Y).drop(columns=['PREpositionOrder'])\n",
    "DataM2_test_Y\n",
    "DataM2_test_Y.to_csv('Model2_propre/LogisticDriverV1.csv')"
   ]
  },
  {
   "cell_type": "code",
   "execution_count": 245,
   "metadata": {},
   "outputs": [
    {
     "data": {
      "text/html": [
       "<div>\n",
       "<style scoped>\n",
       "    .dataframe tbody tr th:only-of-type {\n",
       "        vertical-align: middle;\n",
       "    }\n",
       "\n",
       "    .dataframe tbody tr th {\n",
       "        vertical-align: top;\n",
       "    }\n",
       "\n",
       "    .dataframe thead th {\n",
       "        text-align: right;\n",
       "    }\n",
       "</style>\n",
       "<table border=\"1\" class=\"dataframe\">\n",
       "  <thead>\n",
       "    <tr style=\"text-align: right;\">\n",
       "      <th></th>\n",
       "      <th></th>\n",
       "      <th>winner</th>\n",
       "      <th>positionOrder</th>\n",
       "    </tr>\n",
       "    <tr>\n",
       "      <th>raceId</th>\n",
       "      <th>driverId</th>\n",
       "      <th></th>\n",
       "      <th></th>\n",
       "    </tr>\n",
       "  </thead>\n",
       "  <tbody>\n",
       "    <tr>\n",
       "      <th rowspan=\"5\" valign=\"top\">1051</th>\n",
       "      <th>1</th>\n",
       "      <td>1</td>\n",
       "      <td>1</td>\n",
       "    </tr>\n",
       "    <tr>\n",
       "      <th>4</th>\n",
       "      <td>0</td>\n",
       "      <td>3</td>\n",
       "    </tr>\n",
       "    <tr>\n",
       "      <th>8</th>\n",
       "      <td>0</td>\n",
       "      <td>0</td>\n",
       "    </tr>\n",
       "    <tr>\n",
       "      <th>20</th>\n",
       "      <td>0</td>\n",
       "      <td>0</td>\n",
       "    </tr>\n",
       "    <tr>\n",
       "      <th>815</th>\n",
       "      <td>0</td>\n",
       "      <td>0</td>\n",
       "    </tr>\n",
       "    <tr>\n",
       "      <th>...</th>\n",
       "      <th>...</th>\n",
       "      <td>...</td>\n",
       "      <td>...</td>\n",
       "    </tr>\n",
       "    <tr>\n",
       "      <th rowspan=\"5\" valign=\"top\">1073</th>\n",
       "      <th>847</th>\n",
       "      <td>0</td>\n",
       "      <td>0</td>\n",
       "    </tr>\n",
       "    <tr>\n",
       "      <th>849</th>\n",
       "      <td>0</td>\n",
       "      <td>0</td>\n",
       "    </tr>\n",
       "    <tr>\n",
       "      <th>852</th>\n",
       "      <td>0</td>\n",
       "      <td>0</td>\n",
       "    </tr>\n",
       "    <tr>\n",
       "      <th>853</th>\n",
       "      <td>0</td>\n",
       "      <td>0</td>\n",
       "    </tr>\n",
       "    <tr>\n",
       "      <th>854</th>\n",
       "      <td>0</td>\n",
       "      <td>0</td>\n",
       "    </tr>\n",
       "  </tbody>\n",
       "</table>\n",
       "<p>440 rows × 2 columns</p>\n",
       "</div>"
      ],
      "text/plain": [
       "                 winner  positionOrder\n",
       "raceId driverId                       \n",
       "1051   1              1              1\n",
       "       4              0              3\n",
       "       8              0              0\n",
       "       20             0              0\n",
       "       815            0              0\n",
       "...                 ...            ...\n",
       "1073   847            0              0\n",
       "       849            0              0\n",
       "       852            0              0\n",
       "       853            0              0\n",
       "       854            0              0\n",
       "\n",
       "[440 rows x 2 columns]"
      ]
     },
     "execution_count": 245,
     "metadata": {},
     "output_type": "execute_result"
    }
   ],
   "source": [
    "DataM2_test_Y"
   ]
  }
 ],
 "metadata": {
  "kernelspec": {
   "display_name": "Python 3",
   "language": "python",
   "name": "python3"
  },
  "language_info": {
   "codemirror_mode": {
    "name": "ipython",
    "version": 3
   },
   "file_extension": ".py",
   "mimetype": "text/x-python",
   "name": "python",
   "nbconvert_exporter": "python",
   "pygments_lexer": "ipython3",
   "version": "3.11.8"
  }
 },
 "nbformat": 4,
 "nbformat_minor": 2
}
