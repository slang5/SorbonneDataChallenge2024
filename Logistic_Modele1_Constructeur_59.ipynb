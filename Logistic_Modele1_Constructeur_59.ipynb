{
 "cells": [
  {
   "cell_type": "markdown",
   "id": "50104c1a",
   "metadata": {},
   "source": [
    "<div id = \"monlogo\"><center> <img src=\"https://datascientest.fr/train/assets/logo_datascientest.png\", style=\"height:150px\"></center></div>\n",
    "\n",
    "<hr style=\"border-width:2px;border-color:#75DFC1\"><br>\n",
    "<center> <h1>Challenge Sorbonne</h1> </center> <br>\n",
    "<center> <h3>Exemple Modélisation</h3> </center> <br>\n",
    "<hr style=\"border-width:2px;border-color:#75DFC1\"> \n",
    "\n",
    "### Modélisation Machine Learning\n",
    "\n",
    ">  L'objectif est de créer un modèle permettant d'**identifier pour chaque course de la saison 2021, le vainqueur ainsi que le podium**. Il faut donc créer un modèle de classification binaire, ainsi qu'un modèle de classification multiclasse. Pour rappel, chacun de ces 2 modèles servira pour la moitié de la note de modélisation.\n",
    ">\n",
    "> Il est nécessaire de garder ces éléments en tête :\n",
    "> - **Données futures** : Les Grand Prix ont lieu les uns après les autres, et vous avez dans les différentes tables accès à des données qui n'existent pas encore au moment du départ d'un Grand Prix. Créer un modèle reposant sur des informations futures serait un non-sens mathématiques et une grosse erreur de méthodologie.\n",
    "> - **Preprocessing** : Il y a bon nombre de données manquantes, incomplètes ou inutiles dans le jeu de données, faites le tri. \n",
    "> - **Feature Engineering** : Vous avez un grand nombre de tables, certaines contiennent des features directement exploitables pour le machine learning, d'autres sont intéressantes mais nécessitent des modifications afin d'être utilisées à bon escient. Vous avez également la possibilité d'augmenter vos données à l'aide de librairies comme [FastF1](https://theoehrly.github.io/Fast-F1/), ou en scrapant sur le web.\n",
    "> - **Métriques et interprétabilités** : Vos modèles seront évaluées selon la métrique bien connue du [f1-score](https://scikit-learn.org/stable/modules/generated/sklearn.metrics.f1_score.html), prenez cela en compte lors de l'optimisation de vos modèles.\n",
    "\n",
    "### Exemple\n",
    "\n",
    "> Vous trouverez ci-dessous un exemple de modèle naïf de classification binaire réalisé à partir des tables `results.csv`, `races.csv`, `circuits.csv` et `constructor_standings.csv`, se basant uniquement sur **la position de départ de chaque pilote sur la grille**, **le pays du circuit**, **le classement et le nombre de points constructeur au moment du départ**.\n",
    ">\n",
    "> Attention, ce travail de modélisation a uniquement vocation à vous donner une piste pour démarrer, celui-ci n'est pas parfaitement optimisé et ne constitue pas un bon exemple à suivre."
   ]
  },
  {
   "cell_type": "code",
   "execution_count": 1,
   "id": "94b42565",
   "metadata": {},
   "outputs": [],
   "source": [
    "import numpy as np\n",
    "import pandas as pd\n",
    "from sklearn.preprocessing import LabelEncoder\n",
    "from sklearn.linear_model import LogisticRegression\n",
    "\n",
    "#Chargement des trois tables\n",
    "results = pd.read_csv(r\"data/results.csv\", sep=',')\n",
    "races = pd.read_csv(r\"data/races.csv\", sep=',')\n",
    "circuits = pd.read_csv(r\"data/circuits.csv\", sep=',')\n",
    "constructors = pd.read_csv(r\"data/constructor_standings.csv\", sep=',')\n",
    "\n",
    "#Jointure entre les différentes tables afin de conserver les 2 features, la variable cible 'positionOrder' et l'année pour effectuer le train_test_split\n",
    "df1 = pd.merge(results[['driverId', 'constructorId', 'raceId', 'grid', 'positionOrder']], races[['raceId', 'year', 'circuitId']], on = 'raceId')\n",
    "df2 = pd.merge(df1, constructors[['raceId', 'constructorId', 'position', 'points']], on = ['raceId', 'constructorId'])\n",
    "df3 = pd.merge(df2, circuits[['circuitId','country']], on = 'circuitId')\n",
    "df3['winner'] = df3['positionOrder'].apply(lambda x: 1 if x==1 else 0)\n",
    "df4 = df3.drop(['circuitId', 'constructorId', 'positionOrder'], axis = 1).set_index(['raceId', 'driverId'])"
   ]
  },
  {
   "cell_type": "code",
   "execution_count": 2,
   "id": "d840376e-0805-48a7-9934-f47a563d48c7",
   "metadata": {},
   "outputs": [],
   "source": [
    "#On encode numériquement les pays\n",
    "label_encoder = LabelEncoder()\n",
    "df4.loc[:, 'country'] = label_encoder.fit_transform(df3['country'])\n",
    "df4.loc[:,\"position**2\"] = df4[\"position\"] ** 2\n",
    "df4.loc[:,\"points**2\"] = df4[\"points\"] ** 2\n",
    "\n",
    "\n",
    "#On effectue notre train_test_split selon les dates puis on sépare X et y\n",
    "df_train = df4[df4['year']<=2020]\n",
    "df_test = df4[df4['year']==2021]\n",
    "\n",
    "X_train = df_train[['grid', 'country',\"points\",\"position\", 'points**2',\"position**2\"]]\n",
    "X_test = df_test[['grid', 'country', \"points\",\"position\",'points**2',\"position**2\"]]\n",
    "\n",
    "y_train = df_train[['winner']]\n",
    "#y_test ne contient pas d'informations, puisque c'est ce qu'il faut prédire et soumettre sur la plateforme :)\n",
    "y_test = df_test[['winner']]\n",
    "y_pred = df_test[['winner']]"
   ]
  },
  {
   "cell_type": "markdown",
   "id": "2063c68e",
   "metadata": {},
   "source": [
    "    'max_iter': [3000],\n",
    "    'penalty' : [\"l1\", \"elasticnet\", \"l2\"],\n",
    "    'solver' : [\"lbfgs\", \"liblinear\", \"newton-cg\", \"newton-cholesky\", \"sag\", \"saga\", \"lbfgs\""
   ]
  },
  {
   "cell_type": "code",
   "execution_count": 25,
   "id": "443869f7-dee4-4256-b4b6-62eb35745e4b",
   "metadata": {},
   "outputs": [
    {
     "name": "stdout",
     "output_type": "stream",
     "text": [
      "{'max_iter': 5000, 'penalty': 'l2', 'solver': 'lbfgs'}\n"
     ]
    }
   ],
   "source": [
    "from sklearn.model_selection import GridSearchCV\n",
    "\n",
    "# Définition du modèle\n",
    "Logistic = LogisticRegression(random_state = 42)\n",
    "\n",
    "# Définition de la grille de paramètres et du GridSearchCV\n",
    "param_grid = {\n",
    "    'max_iter': [5000],\n",
    "    'penalty' : [\"l2\"],\n",
    "    'solver' : [\"lbfgs\"]\n",
    "}\n",
    "\n",
    "grid_search = GridSearchCV(Logistic, param_grid, scoring='recall')\n",
    "\n",
    "# Entraînement du modèle\n",
    "grid_search.fit(X_train, y_train.values.ravel())\n",
    "print(grid_search.best_params_)"
   ]
  },
  {
   "cell_type": "markdown",
   "id": "0d132756",
   "metadata": {},
   "source": [
    "{'max_iter': 3500, 'penalty': 'l2', 'solver': 'newton-cg'}\n",
    "{'max_iter': 3500, 'penalty': 'l1', 'solver': 'liblinear'}\n",
    "{'max_iter': 4000, 'penalty': 'l1', 'solver': 'liblinear'}\n",
    "{'max_iter': 4000, 'penalty': 'l2', 'solver': 'lbfgs'}\n",
    "\n",
    "Best : {'max_iter': 5000, 'penalty': 'l2', 'solver': 'lbfgs'}"
   ]
  },
  {
   "cell_type": "code",
   "execution_count": 26,
   "id": "54eb18e2",
   "metadata": {},
   "outputs": [
    {
     "data": {
      "text/plain": [
       "0.0"
      ]
     },
     "execution_count": 26,
     "metadata": {},
     "output_type": "execute_result"
    }
   ],
   "source": [
    "grid_search.score(X_train,y_train)"
   ]
  },
  {
   "cell_type": "code",
   "execution_count": 27,
   "id": "14aaad84",
   "metadata": {},
   "outputs": [
    {
     "data": {
      "text/html": [
       "<div>\n",
       "<style scoped>\n",
       "    .dataframe tbody tr th:only-of-type {\n",
       "        vertical-align: middle;\n",
       "    }\n",
       "\n",
       "    .dataframe tbody tr th {\n",
       "        vertical-align: top;\n",
       "    }\n",
       "\n",
       "    .dataframe thead th {\n",
       "        text-align: right;\n",
       "    }\n",
       "</style>\n",
       "<table border=\"1\" class=\"dataframe\">\n",
       "  <thead>\n",
       "    <tr style=\"text-align: right;\">\n",
       "      <th></th>\n",
       "      <th></th>\n",
       "      <th>winner</th>\n",
       "      <th>PREpositionOrder</th>\n",
       "    </tr>\n",
       "    <tr>\n",
       "      <th>raceId</th>\n",
       "      <th>driverId</th>\n",
       "      <th></th>\n",
       "      <th></th>\n",
       "    </tr>\n",
       "  </thead>\n",
       "  <tbody>\n",
       "    <tr>\n",
       "      <th rowspan=\"5\" valign=\"top\">1052</th>\n",
       "      <th>1</th>\n",
       "      <td>0</td>\n",
       "      <td>0.339196</td>\n",
       "    </tr>\n",
       "    <tr>\n",
       "      <th>830</th>\n",
       "      <td>0</td>\n",
       "      <td>0.259787</td>\n",
       "    </tr>\n",
       "    <tr>\n",
       "      <th>822</th>\n",
       "      <td>0</td>\n",
       "      <td>0.273046</td>\n",
       "    </tr>\n",
       "    <tr>\n",
       "      <th>846</th>\n",
       "      <td>0</td>\n",
       "      <td>0.027384</td>\n",
       "    </tr>\n",
       "    <tr>\n",
       "      <th>815</th>\n",
       "      <td>0</td>\n",
       "      <td>0.324157</td>\n",
       "    </tr>\n",
       "    <tr>\n",
       "      <th>...</th>\n",
       "      <th>...</th>\n",
       "      <td>...</td>\n",
       "      <td>...</td>\n",
       "    </tr>\n",
       "    <tr>\n",
       "      <th rowspan=\"5\" valign=\"top\">1073</th>\n",
       "      <th>849</th>\n",
       "      <td>0</td>\n",
       "      <td>0.000122</td>\n",
       "    </tr>\n",
       "    <tr>\n",
       "      <th>841</th>\n",
       "      <td>0</td>\n",
       "      <td>0.000152</td>\n",
       "    </tr>\n",
       "    <tr>\n",
       "      <th>847</th>\n",
       "      <td>0</td>\n",
       "      <td>0.000089</td>\n",
       "    </tr>\n",
       "    <tr>\n",
       "      <th>8</th>\n",
       "      <td>0</td>\n",
       "      <td>0.000044</td>\n",
       "    </tr>\n",
       "    <tr>\n",
       "      <th>853</th>\n",
       "      <td>0</td>\n",
       "      <td>0.000016</td>\n",
       "    </tr>\n",
       "  </tbody>\n",
       "</table>\n",
       "<p>440 rows × 2 columns</p>\n",
       "</div>"
      ],
      "text/plain": [
       "                 winner  PREpositionOrder\n",
       "raceId driverId                          \n",
       "1052   1              0          0.339196\n",
       "       830            0          0.259787\n",
       "       822            0          0.273046\n",
       "       846            0          0.027384\n",
       "       815            0          0.324157\n",
       "...                 ...               ...\n",
       "1073   849            0          0.000122\n",
       "       841            0          0.000152\n",
       "       847            0          0.000089\n",
       "       8              0          0.000044\n",
       "       853            0          0.000016\n",
       "\n",
       "[440 rows x 2 columns]"
      ]
     },
     "execution_count": 27,
     "metadata": {},
     "output_type": "execute_result"
    }
   ],
   "source": [
    "#On souhaite ajouter un podium fait à partir des probabilités retournées par le modèle random forest\n",
    "\n",
    "probabilite = grid_search.predict_proba(X_test)\n",
    "probabilite = pd.DataFrame(probabilite)\n",
    "probabilite = probabilite.drop(columns=(0))\n",
    "probabilite = np.array(probabilite)\n",
    "probabilite\n",
    "y_pred.loc[:,'PREpositionOrder'] = probabilite\n",
    "y_pred\n",
    "# on a donc un classement fait à partir des probabilité qui faut transformer en un classement ordonné du premier au dernier arrivé (1 à 20)"
   ]
  },
  {
   "cell_type": "markdown",
   "id": "d1828482",
   "metadata": {},
   "source": [
    "l'objectif est de réaliser un classement pour chaque course"
   ]
  },
  {
   "cell_type": "code",
   "execution_count": 28,
   "id": "99b5be79",
   "metadata": {},
   "outputs": [],
   "source": [
    "Taille = y_pred.index\n",
    "raceID = Taille.get_level_values('raceId').unique()"
   ]
  },
  {
   "cell_type": "code",
   "execution_count": 30,
   "id": "e3ef8828",
   "metadata": {},
   "outputs": [],
   "source": [
    "#driverID = y_pred.index.get_level_values('driverId')\n",
    "PodiumOr0 = []\n",
    "Top1 = []\n",
    "for RACE in raceID:\n",
    "    driverID = y_pred[\"PREpositionOrder\"][RACE].index.get_level_values('driverId')\n",
    "    array = np.array(y_pred[\"PREpositionOrder\"][RACE])\n",
    "    ranks = array.argsort()\n",
    "    ranks = 20 - ranks.argsort()\n",
    "    count = 0\n",
    "    for DRIVER in driverID:\n",
    "        rang = ranks[count]\n",
    "        if rang <= 3:\n",
    "            PodiumOr0.append(ranks[count])\n",
    "            if rang == 1:\n",
    "                Top1.append(1)\n",
    "            else:\n",
    "                Top1.append(0)\n",
    "        else:\n",
    "            PodiumOr0.append(0)\n",
    "            Top1.append(0)\n",
    "        count += 1 \n",
    "    count = 0"
   ]
  },
  {
   "cell_type": "code",
   "execution_count": 31,
   "id": "05ba7044",
   "metadata": {},
   "outputs": [
    {
     "name": "stdout",
     "output_type": "stream",
     "text": [
      "440 440\n"
     ]
    }
   ],
   "source": [
    "print(len(PodiumOr0),len(Top1))"
   ]
  },
  {
   "cell_type": "code",
   "execution_count": 32,
   "id": "c96ecd6a",
   "metadata": {},
   "outputs": [
    {
     "name": "stderr",
     "output_type": "stream",
     "text": [
      "C:\\Users\\luang\\AppData\\Local\\Temp\\ipykernel_6672\\1890261867.py:2: SettingWithCopyWarning: \n",
      "A value is trying to be set on a copy of a slice from a DataFrame.\n",
      "Try using .loc[row_indexer,col_indexer] = value instead\n",
      "\n",
      "See the caveats in the documentation: https://pandas.pydata.org/pandas-docs/stable/user_guide/indexing.html#returning-a-view-versus-a-copy\n",
      "  y_pred.loc[:,'positionOrder'] = PodiumOr0\n"
     ]
    }
   ],
   "source": [
    "y_pred.loc[:,'winner'] = Top1\n",
    "y_pred.loc[:,'positionOrder'] = PodiumOr0\n",
    "y_pred = y_pred.drop(columns=(\"PREpositionOrder\"))"
   ]
  },
  {
   "cell_type": "code",
   "execution_count": 33,
   "id": "2e672543",
   "metadata": {},
   "outputs": [],
   "source": [
    "#On exporte notre y_pred au format CSV \n",
    "y_pred.to_csv('Logistic_model1OnlyConstructeur.csv')"
   ]
  },
  {
   "cell_type": "code",
   "execution_count": 34,
   "id": "74bcc19c",
   "metadata": {},
   "outputs": [
    {
     "data": {
      "text/html": [
       "<div>\n",
       "<style scoped>\n",
       "    .dataframe tbody tr th:only-of-type {\n",
       "        vertical-align: middle;\n",
       "    }\n",
       "\n",
       "    .dataframe tbody tr th {\n",
       "        vertical-align: top;\n",
       "    }\n",
       "\n",
       "    .dataframe thead th {\n",
       "        text-align: right;\n",
       "    }\n",
       "</style>\n",
       "<table border=\"1\" class=\"dataframe\">\n",
       "  <thead>\n",
       "    <tr style=\"text-align: right;\">\n",
       "      <th></th>\n",
       "      <th></th>\n",
       "      <th>winner</th>\n",
       "      <th>positionOrder</th>\n",
       "    </tr>\n",
       "    <tr>\n",
       "      <th>raceId</th>\n",
       "      <th>driverId</th>\n",
       "      <th></th>\n",
       "      <th></th>\n",
       "    </tr>\n",
       "  </thead>\n",
       "  <tbody>\n",
       "    <tr>\n",
       "      <th rowspan=\"5\" valign=\"top\">1052</th>\n",
       "      <th>1</th>\n",
       "      <td>1</td>\n",
       "      <td>1</td>\n",
       "    </tr>\n",
       "    <tr>\n",
       "      <th>830</th>\n",
       "      <td>0</td>\n",
       "      <td>0</td>\n",
       "    </tr>\n",
       "    <tr>\n",
       "      <th>822</th>\n",
       "      <td>0</td>\n",
       "      <td>3</td>\n",
       "    </tr>\n",
       "    <tr>\n",
       "      <th>846</th>\n",
       "      <td>0</td>\n",
       "      <td>0</td>\n",
       "    </tr>\n",
       "    <tr>\n",
       "      <th>815</th>\n",
       "      <td>0</td>\n",
       "      <td>2</td>\n",
       "    </tr>\n",
       "    <tr>\n",
       "      <th>...</th>\n",
       "      <th>...</th>\n",
       "      <td>...</td>\n",
       "      <td>...</td>\n",
       "    </tr>\n",
       "    <tr>\n",
       "      <th rowspan=\"5\" valign=\"top\">1073</th>\n",
       "      <th>849</th>\n",
       "      <td>0</td>\n",
       "      <td>0</td>\n",
       "    </tr>\n",
       "    <tr>\n",
       "      <th>841</th>\n",
       "      <td>0</td>\n",
       "      <td>0</td>\n",
       "    </tr>\n",
       "    <tr>\n",
       "      <th>847</th>\n",
       "      <td>0</td>\n",
       "      <td>0</td>\n",
       "    </tr>\n",
       "    <tr>\n",
       "      <th>8</th>\n",
       "      <td>0</td>\n",
       "      <td>0</td>\n",
       "    </tr>\n",
       "    <tr>\n",
       "      <th>853</th>\n",
       "      <td>0</td>\n",
       "      <td>0</td>\n",
       "    </tr>\n",
       "  </tbody>\n",
       "</table>\n",
       "<p>440 rows × 2 columns</p>\n",
       "</div>"
      ],
      "text/plain": [
       "                 winner  positionOrder\n",
       "raceId driverId                       \n",
       "1052   1              1              1\n",
       "       830            0              0\n",
       "       822            0              3\n",
       "       846            0              0\n",
       "       815            0              2\n",
       "...                 ...            ...\n",
       "1073   849            0              0\n",
       "       841            0              0\n",
       "       847            0              0\n",
       "       8              0              0\n",
       "       853            0              0\n",
       "\n",
       "[440 rows x 2 columns]"
      ]
     },
     "execution_count": 34,
     "metadata": {},
     "output_type": "execute_result"
    }
   ],
   "source": [
    "y_pred"
   ]
  },
  {
   "cell_type": "markdown",
   "id": "84cbd297-bf2a-4eb1-ba27-70701ed33a55",
   "metadata": {},
   "source": [
    "Résultat : 59.8"
   ]
  }
 ],
 "metadata": {
  "kernelspec": {
   "display_name": "Python 3 (ipykernel)",
   "language": "python",
   "name": "python3"
  },
  "language_info": {
   "codemirror_mode": {
    "name": "ipython",
    "version": 3
   },
   "file_extension": ".py",
   "mimetype": "text/x-python",
   "name": "python",
   "nbconvert_exporter": "python",
   "pygments_lexer": "ipython3",
   "version": "3.11.8"
  }
 },
 "nbformat": 4,
 "nbformat_minor": 5
}
